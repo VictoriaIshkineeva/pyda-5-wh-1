{
 "cells": [
  {
   "cell_type": "markdown",
   "metadata": {},
   "source": [
    "**Задание 1**. Даны 2 строки: *long_phrase* и *short_phrase*. \n",
    "Напишите код, который проверяет действительно ли длинная фраза *long_phrase* длиннее короткой *short_phrase*. И выводит *True* или *False* в зависимости от результата сравнения."
   ]
  },
  {
   "cell_type": "code",
   "execution_count": 3,
   "metadata": {},
   "outputs": [],
   "source": [
    "long_phrase = 'Насколько проще было бы писать программы, если бы не заказчики'\n",
    "short_phrase = '640Кб должно хватить для любых задач. Билл Гейтс (по легенде)'"
   ]
  },
  {
   "cell_type": "code",
   "execution_count": 4,
   "metadata": {},
   "outputs": [
    {
     "data": {
      "text/plain": [
       "True"
      ]
     },
     "execution_count": 4,
     "metadata": {},
     "output_type": "execute_result"
    }
   ],
   "source": [
    "len(long_phrase) > len(short_phrase)"
   ]
  },
  {
   "cell_type": "markdown",
   "metadata": {},
   "source": [
    "**Задание 2**. Дано значение объема файла в байтах. Напишите перевод этого значения в мегабайты в формате: \"*Объем файла равен 213.68Mb*\""
   ]
  },
  {
   "cell_type": "code",
   "execution_count": 26,
   "metadata": {},
   "outputs": [
    {
     "name": "stdout",
     "output_type": "stream",
     "text": [
      "Дано 224059719.68 B\n"
     ]
    }
   ],
   "source": [
    "b = 213.68 * 1024 * 1024\n",
    "print ('Дано', b, 'B')"
   ]
  },
  {
   "cell_type": "code",
   "execution_count": 27,
   "metadata": {},
   "outputs": [
    {
     "name": "stdout",
     "output_type": "stream",
     "text": [
      "Объем файла равен 213.68 Mb\n"
     ]
    }
   ],
   "source": [
    "mb = b/1024/1024\n",
    "print ('Объем файла равен', mb, 'Mb')"
   ]
  },
  {
   "cell_type": "markdown",
   "metadata": {},
   "source": [
    "**Задание 3**. Разработать приложение для определения знака зодиака по дате рождения. Пример:\n",
    "\n",
    "Введите месяц: март\n",
    "\n",
    "Введите число: 6\n",
    "\n",
    "Вывод:\n",
    "Рыбы"
   ]
  },
  {
   "cell_type": "code",
   "execution_count": 35,
   "metadata": {},
   "outputs": [
    {
     "name": "stdout",
     "output_type": "stream",
     "text": [
      "Введите месяц:\n",
      "март\n",
      "Введите дату:\n",
      "26\n",
      "Вывод: овен\n",
      "Конец программы\n"
     ]
    }
   ],
   "source": [
    "print ('Введите месяц:')\n",
    "month = str (input ())\n",
    "print ('Введите дату:')\n",
    "date = int (input ())\n",
    "if month == 'март' and date >= 21 and date <= 31:\n",
    "    print (\"Вывод:\", \"овен\")\n",
    "elif month == 'апрель' and date >= 1 and date <= 20:\n",
    "    print (\"Вывод:\", \"овен\")\n",
    "elif month == 'апрель' and date >= 21 and date <= 31:\n",
    "    print (\"Вывод:\", \"телец\")\n",
    "elif month == 'май' and date >= 1 and date <= 21:\n",
    "    print (\"Вывод:\", \"телец\")\n",
    "elif month == 'май' and date >= 22 and date <= 31:\n",
    "    print (\"Вывод:\", \"близнецы\")\n",
    "elif month == 'июнь' and date >= 1 and date <= 21:\n",
    "    print (\"Вывод:\", \"близнецы\")\n",
    "elif month== 'июнь' and date >= 22 and date <= 31:\n",
    "    print (\"Вывод:\", \"рак\")\n",
    "elif month == 'июль' and date >= 1 and date <= 22:\n",
    "    print (\"Вывод:\", \"рак\")\n",
    "elif month == 'июль' and date >= 23 and date <= 31:\n",
    "     print (\"Вывод:\", \"лев\")\n",
    "elif month == 'август' and date >= 1 and date <= 23:\n",
    "    print (\"Вывод:\", \"лев\")\n",
    "elif month == 'август' and date >= 24 and date <= 31:\n",
    "    print (\"Вывод:\", \"дева\")\n",
    "elif month == 'сентябрь' and date >= 1 and date <= 23:\n",
    "    print (\"Вывод:\", \"дева\")\n",
    "elif month == 'сентябрь' and date >= 24 and date <= 31:\n",
    "    print (\"Вывод:\", \"весы\")\n",
    "elif month == 'октябрь' and date >= 1 and date <= 23:\n",
    "    print (\"Вывод:\", \"весы\")\n",
    "elif month == 'октябрь' and date >= 24 and date <= 31:\n",
    "    print (\"Вывод:\", \"скорпион\")\n",
    "elif month == 'ноябрь' and date >= 1 and date <= 22:\n",
    "    print (\"Вывод:\", \"скорпион\")\n",
    "elif month == 'ноябрь' and date >= 23 and date <= 31:\n",
    "    print (\"Вывод:\", \"стрелец\")\n",
    "elif month == 'декабрь' and date >= 1 and date <= 22:\n",
    "    print (\"Вывод:\", \"стрелец\")\n",
    "elif month == 'декабрь' and date >= 23 and date <= 31:\n",
    "    print (\"Вывод:\", \"козерог\")\n",
    "elif month == 'январь' and date >= 1 and date <= 20:\n",
    "    print (\"Вывод:\", \"козерог\")\n",
    "elif month == 'январь' and date >= 21 and date <= 31:\n",
    "    print (\"Вывод:\", \"водолей\")\n",
    "elif month == 'февраль' and date >= 1 and date <= 19:\n",
    "    print (\"Вывод:\", \"февраль\")\n",
    "elif month =='февраль'and date >= 20 and date <= 31:\n",
    "    print (\"Вывод:\", \"рыбы\")\n",
    "elif month =='март' and date >= 1 and date <= 20:\n",
    "    print (\"Вывод:\", \"рыбы\")\n",
    "print ('Конец программы')\n",
    "\n"
   ]
  },
  {
   "cell_type": "markdown",
   "metadata": {},
   "source": [
    "**Задание 4**. Нужно разработать приложение для финансового планирования.\n",
    "Приложение учитывает сколько уходит на ипотеку, \"на жизнь\" и сколько нужно отложить на пенсию.\n",
    "Пользователь вводит:\n",
    "- заработанную плату в месяц.\n",
    "- сколько процентов от ЗП уходит на ипотеку.\n",
    "- сколько процентов от ЗП уходит \"на жизнь\".\n",
    "- сколько раз приходит премия в год.\n",
    "\n",
    "Остальная часть заработанной платы откладывается на пенсию.\n",
    "\n",
    "Также пользователю приходит премия в размере зарплаты, от которой половина уходит на отпуск, а вторая половина откладывается.\n",
    "\n",
    "Программа должна учитывать сколько премий было в год.\n",
    "\n",
    "Нужно вывести сколько денег тратит пользователь на ипотеку и сколько он накопит за год.\n",
    "\n",
    "Пример:\n",
    "\n",
    "Введите заработанную плату в месяц: 100000\n",
    "\n",
    "Введите сколько процентов уходит на ипотеку: 30\n",
    "\n",
    "Введите сколько процентов уходит на жизнь: 50\n",
    "\n",
    "Введите количество премий за год: 2\n",
    "\n",
    "Вывод:\n",
    "На ипотеку было потрачено: 360000 рублей\n",
    "Было накоплено: 340000 рублей"
   ]
  },
  {
   "cell_type": "code",
   "execution_count": 45,
   "metadata": {},
   "outputs": [
    {
     "name": "stdout",
     "output_type": "stream",
     "text": [
      "Введите заработанную плату в месяц:\n",
      "100000\n",
      "Введите сколько процентов уходит на ипотеку:\n",
      "30\n",
      "Введите сколько процентов уходит на жизнь:\n",
      "50\n",
      "Введите количество премий за год:\n",
      "2\n",
      "На ипотеку было потрачено: 360000.0 рублей Было накоплено: 340000.0 рублей\n"
     ]
    }
   ],
   "source": [
    "print ('Введите заработанную плату в месяц:')\n",
    "зп_мес = int (input ())\n",
    "print ('Введите сколько процентов уходит на ипотеку:')\n",
    "ипотека_проц = int (input ())\n",
    "print ('Введите сколько процентов уходит на жизнь:')\n",
    "жизньзп_мес_проц = int (input ())\n",
    "print ('Введите количество премий за год:')\n",
    "премий_г = int (input ())\n",
    "\n",
    "заработано_г = (зп_мес * 12) + (зп_мес * премий_г / 2)\n",
    "потрачено_и_г = (зп_мес * ипотека_проц / 100) * 12\n",
    "жизнь = (зп_мес * жизнь_проц / 100) * 12\n",
    "накоплено_г = заработано_г - потрачено_и_г - жизнь\n",
    "print ('На ипотеку было потрачено:', потрачено_и_г, 'рублей Было накоплено:', накоплено_г, 'рублей')"
   ]
  },
  {
   "cell_type": "code",
   "execution_count": null,
   "metadata": {},
   "outputs": [],
   "source": []
  }
 ],
 "metadata": {
  "kernelspec": {
   "display_name": "Python 3",
   "language": "python",
   "name": "python3"
  },
  "language_info": {
   "codemirror_mode": {
    "name": "ipython",
    "version": 3
   },
   "file_extension": ".py",
   "mimetype": "text/x-python",
   "name": "python",
   "nbconvert_exporter": "python",
   "pygments_lexer": "ipython3",
   "version": "3.7.4"
  }
 },
 "nbformat": 4,
 "nbformat_minor": 2
}
